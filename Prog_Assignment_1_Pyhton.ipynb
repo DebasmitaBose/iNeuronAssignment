{
 "cells": [
  {
   "cell_type": "code",
   "execution_count": 1,
   "id": "b137f373",
   "metadata": {},
   "outputs": [
    {
     "name": "stdout",
     "output_type": "stream",
     "text": [
      "Hello World\n"
     ]
    }
   ],
   "source": [
    "#Write a Python program to print Hello Python\n",
    "print(f\"Hello World\")\n"
   ]
  },
  {
   "cell_type": "code",
   "execution_count": 4,
   "id": "45ce05cf",
   "metadata": {},
   "outputs": [
    {
     "name": "stdout",
     "output_type": "stream",
     "text": [
      "Input first number: 9\n",
      "Input second number: 3\n",
      "The sum is : 12\n",
      "The division is : 3.0\n"
     ]
    }
   ],
   "source": [
    "# Addition and Division\n",
    "a=int(input(f\"Input first number: \"))\n",
    "b=int(input(f\"Input second number: \"))\n",
    "s=a+b\n",
    "d=a/b\n",
    "print(f\"The sum is : {s}\")\n",
    "print(f\"The division is : {d}\")"
   ]
  },
  {
   "cell_type": "code",
   "execution_count": 7,
   "id": "c4bb0674",
   "metadata": {},
   "outputs": [
    {
     "name": "stdout",
     "output_type": "stream",
     "text": [
      "Enter the base: 4\n",
      "Enter the height: 2\n",
      "The Area of the Triangle: 4.0\n"
     ]
    }
   ],
   "source": [
    "#Write a Python program to find the area of a triangle?\n",
    "base=int(input(\"Enter the base: \"))\n",
    "height=int(input(\"Enter the height: \"))\n",
    "area=.5*base*height\n",
    "print(f\"The Area of the Triangle: {area}\")"
   ]
  },
  {
   "cell_type": "code",
   "execution_count": 9,
   "id": "7983833b",
   "metadata": {},
   "outputs": [
    {
     "name": "stdout",
     "output_type": "stream",
     "text": [
      "Enter 1st number: 3\n",
      "Enter 2nd number: 4\n",
      "The swapped numbers is 1st: 4 & 2nd: 3\n"
     ]
    }
   ],
   "source": [
    "#Write a Python program to swap two variables\n",
    "s1=int(input(\"Enter 1st number: \"))\n",
    "s2=int(input(\"Enter 2nd number: \"))\n",
    "s3=s2\n",
    "s2=s1\n",
    "s1=s3\n",
    "print(f\"The swapped numbers is 1st: {s1} & 2nd: {s2}\")"
   ]
  },
  {
   "cell_type": "code",
   "execution_count": 11,
   "id": "742bfb32",
   "metadata": {},
   "outputs": [
    {
     "name": "stdout",
     "output_type": "stream",
     "text": [
      "0.7377079809436006\n"
     ]
    }
   ],
   "source": [
    "#Write a Python program to generate a random number\n",
    "\n",
    "import random\n",
    "n1=random.random()\n",
    "print(n1)"
   ]
  },
  {
   "cell_type": "code",
   "execution_count": null,
   "id": "2858ba18",
   "metadata": {},
   "outputs": [],
   "source": []
  }
 ],
 "metadata": {
  "kernelspec": {
   "display_name": "Python 3 (ipykernel)",
   "language": "python",
   "name": "python3"
  },
  "language_info": {
   "codemirror_mode": {
    "name": "ipython",
    "version": 3
   },
   "file_extension": ".py",
   "mimetype": "text/x-python",
   "name": "python",
   "nbconvert_exporter": "python",
   "pygments_lexer": "ipython3",
   "version": "3.9.5"
  }
 },
 "nbformat": 4,
 "nbformat_minor": 5
}
