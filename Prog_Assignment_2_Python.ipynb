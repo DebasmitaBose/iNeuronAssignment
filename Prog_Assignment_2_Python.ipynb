{
 "cells": [
  {
   "cell_type": "code",
   "execution_count": 4,
   "id": "3ccf8350",
   "metadata": {},
   "outputs": [
    {
     "name": "stdout",
     "output_type": "stream",
     "text": [
      "Enter number in kilometres: 2.4\n",
      "The distance in miles in: 1.4904\n"
     ]
    }
   ],
   "source": [
    "#Write a Python program to convert kilometers to miles?\n",
    "\n",
    "km=float(input(\"Enter number in kilometres: \"))\n",
    "miles=km*0.621\n",
    "print(f\"The distance in miles in: {miles}\")"
   ]
  },
  {
   "cell_type": "code",
   "execution_count": 8,
   "id": "30a09234",
   "metadata": {},
   "outputs": [
    {
     "name": "stdout",
     "output_type": "stream",
     "text": [
      "Enter temperature in Celsius: 2\n",
      "35.6\n"
     ]
    },
    {
     "data": {
      "text/plain": [
       "float"
      ]
     },
     "execution_count": 8,
     "metadata": {},
     "output_type": "execute_result"
    }
   ],
   "source": [
    "#Write a Python program to convert Celsius to Fahrenheit\n",
    "t=int(input(\"Enter temperature in Celsius: \"))\n",
    "f=(t*9/5)+32\n",
    "print(f)"
   ]
  },
  {
   "cell_type": "code",
   "execution_count": 14,
   "id": "bfa66579",
   "metadata": {},
   "outputs": [
    {
     "name": "stdout",
     "output_type": "stream",
     "text": [
      "Enter Year in YYYY format : 2012\n",
      "Enter Month in MM format: 1\n",
      "    January 2012\n",
      "Mo Tu We Th Fr Sa Su\n",
      "                   1\n",
      " 2  3  4  5  6  7  8\n",
      " 9 10 11 12 13 14 15\n",
      "16 17 18 19 20 21 22\n",
      "23 24 25 26 27 28 29\n",
      "30 31\n",
      "\n"
     ]
    }
   ],
   "source": [
    "#Write a Python program to display calendar\n",
    "\n",
    "import calendar\n",
    "y=int(input(\"Enter Year in YYYY format : \"))\n",
    "m=int(input(\"Enter Month in MM format: \"))\n",
    "print(calendar.month(y,m))"
   ]
  },
  {
   "cell_type": "code",
   "execution_count": 17,
   "id": "c7c4587e",
   "metadata": {},
   "outputs": [
    {
     "name": "stdout",
     "output_type": "stream",
     "text": [
      "Enter value of a in quadratic equation where a is not 0 : 2\n",
      "Enter value of b in quadratic equation: 3\n",
      "Enter value of c in quadratic equation 1\n",
      "The output of the quadration equation is (-0.5+0j) and (-1+0j)\n"
     ]
    }
   ],
   "source": [
    "#Write a Python program to solve quadratic equation\n",
    "import cmath\n",
    "a = int(input(\"Enter value of a in quadratic equation where a is not 0 : \"))\n",
    "b=int(input(\"Enter value of b in quadratic equation: \"))\n",
    "c=int(input(\"Enter value of c in quadratic equation \"))\n",
    "\n",
    "d=(b**2)-(4*a*c)\n",
    "o1=(-b+cmath.sqrt(d))/(2*a)\n",
    "o2=(-b-cmath.sqrt(d))/(2*a)\n",
    "\n",
    "print(f\"The output of the quadration equation is {o1} and {o2}\")\n"
   ]
  },
  {
   "cell_type": "code",
   "execution_count": 21,
   "id": "d2eeec5b",
   "metadata": {},
   "outputs": [
    {
     "name": "stdout",
     "output_type": "stream",
     "text": [
      "5\n",
      "3\n"
     ]
    }
   ],
   "source": [
    "#Write a Python program to swap two variables without temp variable\n",
    "a=3\n",
    "b=5\n",
    "a=3+5\n",
    "b=a-b\n",
    "a=a-b\n",
    "print(a)\n",
    "print(b)"
   ]
  },
  {
   "cell_type": "code",
   "execution_count": null,
   "id": "3871efeb",
   "metadata": {},
   "outputs": [],
   "source": []
  }
 ],
 "metadata": {
  "kernelspec": {
   "display_name": "Python 3 (ipykernel)",
   "language": "python",
   "name": "python3"
  },
  "language_info": {
   "codemirror_mode": {
    "name": "ipython",
    "version": 3
   },
   "file_extension": ".py",
   "mimetype": "text/x-python",
   "name": "python",
   "nbconvert_exporter": "python",
   "pygments_lexer": "ipython3",
   "version": "3.9.5"
  }
 },
 "nbformat": 4,
 "nbformat_minor": 5
}
