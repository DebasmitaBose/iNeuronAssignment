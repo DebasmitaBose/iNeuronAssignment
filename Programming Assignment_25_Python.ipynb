{
 "cells": [
  {
   "cell_type": "code",
   "execution_count": 54,
   "id": "2ef12d84",
   "metadata": {},
   "outputs": [],
   "source": [
    "'''\n",
    "Question1\n",
    "Create a function that takes three integer arguments (a, b, c) and returns the amount of\n",
    "integers which are of equal value.\n",
    "Examples\n",
    "equal(3, 4, 3) ➞ 2\n",
    "equal(1, 1, 1) ➞ 3\n",
    "equal(3, 4, 1) ➞ 0\n",
    "Notes\n",
    "Your function must return 0, 2 or 3.\n",
    "'''\n",
    "\n",
    "def equal(a,b,c):\n",
    "    j=0\n",
    "    l=[]\n",
    "    l.append(a)\n",
    "    l.append(b)\n",
    "    l.append(c)\n",
    "    for i in l:\n",
    "        if l.count(i)!=1:\n",
    "            j=j+1\n",
    "    print(j)\n",
    "    \n",
    "        \n",
    "            \n",
    "        "
   ]
  },
  {
   "cell_type": "code",
   "execution_count": 56,
   "id": "5ce56189",
   "metadata": {},
   "outputs": [
    {
     "name": "stdout",
     "output_type": "stream",
     "text": [
      "2\n"
     ]
    }
   ],
   "source": [
    "equal(3,3,4)"
   ]
  },
  {
   "cell_type": "code",
   "execution_count": 132,
   "id": "3deb6f25",
   "metadata": {},
   "outputs": [],
   "source": [
    "#Write a function that converts a dictionary into a list of keys-values tuples.\n",
    "'''\n",
    "Examples\n",
    "dict_to_list({\n",
    "\"D\": 1,\n",
    "\"B\": 2,\n",
    "\"C\": 3\n",
    "}) ➞ [(\"B\", 2), (\"C\", 3), (\"D\", 1)]\n",
    "dict_to_list({\n",
    "\"likes\": 2,\n",
    "\"dislikes\": 3,\n",
    "\"followers\": 10\n",
    "}) ➞ [(\"dislikes\", 3), (\"followers\", 10), (\"likes\", 2)]\n",
    "Notes\n",
    "Return the elements in the list in alphabetical order.\n",
    "'''\n",
    "def dict_to_list(d):\n",
    "    l1=list(d.items())\n",
    "    l2=sorted(l1)\n",
    "    print(l2)\n",
    "    \n",
    "\n"
   ]
  },
  {
   "cell_type": "code",
   "execution_count": 133,
   "id": "a11f965a",
   "metadata": {},
   "outputs": [
    {
     "name": "stdout",
     "output_type": "stream",
     "text": [
      "[('B', 2), ('C', 3), ('D', 1)]\n"
     ]
    }
   ],
   "source": [
    "d={\"D\": 1,\n",
    "\"B\": 2,\n",
    "\"C\": 3\n",
    "}\n",
    "dict_to_list(d)"
   ]
  },
  {
   "cell_type": "code",
   "execution_count": 134,
   "id": "e9991797",
   "metadata": {},
   "outputs": [
    {
     "name": "stdout",
     "output_type": "stream",
     "text": [
      "[('dislikes', 3), ('followers', 10), ('likes', 2)]\n"
     ]
    }
   ],
   "source": [
    "d1={\n",
    "\"likes\": 2,\n",
    "\"dislikes\": 3,\n",
    "\"followers\": 10\n",
    "}\n",
    "dict_to_list(d1)"
   ]
  },
  {
   "cell_type": "code",
   "execution_count": 192,
   "id": "f063e9f6",
   "metadata": {},
   "outputs": [],
   "source": [
    "'''\n",
    "Question3\n",
    "Write a function that creates a dictionary with each (key, value) pair being the (lower case,\n",
    "upper case) versions of a letter, respectively.\n",
    "Examples\n",
    "mapping([\"p\", \"q\"]) ➞ { \"p\": \"P\", \"s\": \"S\" }\n",
    "'''\n",
    "def mapping(list1):\n",
    "        k=dict((i, i.upper()) for i in list1)\n",
    "        print(k)"
   ]
  },
  {
   "cell_type": "code",
   "execution_count": 193,
   "id": "3baf245f",
   "metadata": {},
   "outputs": [
    {
     "ename": "NameError",
     "evalue": "name 'islower' is not defined",
     "output_type": "error",
     "traceback": [
      "\u001b[0;31m---------------------------------------------------------------------------\u001b[0m",
      "\u001b[0;31mNameError\u001b[0m                                 Traceback (most recent call last)",
      "Cell \u001b[0;32mIn [193], line 2\u001b[0m\n\u001b[1;32m      1\u001b[0m list1\u001b[38;5;241m=\u001b[39m[\u001b[38;5;124m\"\u001b[39m\u001b[38;5;124mp\u001b[39m\u001b[38;5;124m\"\u001b[39m, \u001b[38;5;124m\"\u001b[39m\u001b[38;5;124mq\u001b[39m\u001b[38;5;124m\"\u001b[39m]\n\u001b[0;32m----> 2\u001b[0m \u001b[43mmapping\u001b[49m\u001b[43m(\u001b[49m\u001b[43mlist1\u001b[49m\u001b[43m)\u001b[49m\n",
      "Cell \u001b[0;32mIn [192], line 9\u001b[0m, in \u001b[0;36mmapping\u001b[0;34m(list1)\u001b[0m\n\u001b[1;32m      8\u001b[0m \u001b[38;5;28;01mdef\u001b[39;00m \u001b[38;5;21mmapping\u001b[39m(list1):\n\u001b[0;32m----> 9\u001b[0m     \u001b[38;5;28;01mif\u001b[39;00m \u001b[43mislower\u001b[49m(list1):\n\u001b[1;32m     10\u001b[0m         k\u001b[38;5;241m=\u001b[39m\u001b[38;5;28mdict\u001b[39m((i, i\u001b[38;5;241m.\u001b[39mupper()) \u001b[38;5;28;01mfor\u001b[39;00m i \u001b[38;5;129;01min\u001b[39;00m list1)\n\u001b[1;32m     11\u001b[0m         \u001b[38;5;28mprint\u001b[39m(k)\n",
      "\u001b[0;31mNameError\u001b[0m: name 'islower' is not defined"
     ]
    }
   ],
   "source": [
    "list1=[\"p\", \"q\"]\n",
    "mapping(list1)"
   ]
  },
  {
   "cell_type": "code",
   "execution_count": 211,
   "id": "c7504062",
   "metadata": {},
   "outputs": [],
   "source": [
    "k1=[]\n",
    "def mapping1(list1):\n",
    "    for i in list1:\n",
    "        if i.islower():\n",
    "            k=(i,i.upper())\n",
    "            k1.append(k)\n",
    "        else:\n",
    "            print(\"Enter in Lowercase\")\n",
    "            break\n",
    "    k2=dict(k1) \n",
    "    if len(k2)!=0:\n",
    "        return k2\n",
    "    else:\n",
    "        pass"
   ]
  },
  {
   "cell_type": "code",
   "execution_count": 212,
   "id": "7a007cdb",
   "metadata": {},
   "outputs": [
    {
     "data": {
      "text/plain": [
       "{'p': 'P', 'q': 'Q'}"
      ]
     },
     "execution_count": 212,
     "metadata": {},
     "output_type": "execute_result"
    }
   ],
   "source": [
    "list1=[\"p\", \"q\"]\n",
    "mapping1(list1)"
   ]
  },
  {
   "cell_type": "code",
   "execution_count": 31,
   "id": "68521a80",
   "metadata": {},
   "outputs": [],
   "source": [
    "#Question4\n",
    "#Write a function, that replaces all vowels in a string with a specified vowel.\n",
    "'''\n",
    "vow_replace(\"apples and bananas\", \"u\")➞ \"upplus und bununus\"\n",
    "'''\n",
    "def vow_replace(s1,vowel):\n",
    "    for i in s1:\n",
    "        if i.islower() and i!=\"y\":\n",
    "            if i=='a'or i=='e'or i=='i'or i=='o'or i=='u':\n",
    "                s1=s1.replace(i,vowel)\n",
    "    print(s1)\n"
   ]
  },
  {
   "cell_type": "code",
   "execution_count": 32,
   "id": "0c3a5763",
   "metadata": {},
   "outputs": [
    {
     "name": "stdout",
     "output_type": "stream",
     "text": [
      "bunu\n"
     ]
    }
   ],
   "source": [
    "vow_replace(\"bana\", \"u\")"
   ]
  },
  {
   "cell_type": "code",
   "execution_count": 34,
   "id": "f0cc62e3",
   "metadata": {},
   "outputs": [
    {
     "name": "stdout",
     "output_type": "stream",
     "text": [
      "CHESE ROLL\n"
     ]
    }
   ],
   "source": [
    "vow_replace(\"CHESE ROLL\", \"i\")"
   ]
  },
  {
   "cell_type": "code",
   "execution_count": 12,
   "id": "2632bb51",
   "metadata": {},
   "outputs": [],
   "source": [
    "'''\n",
    "Question5\n",
    "Create a function that takes a string as input and capitalizes a letter if its ASCII code is even\n",
    "and returns its lower case version if its ASCII code is odd.\n",
    "ascii_capitalize(\"to be or not to be\") ➞ \"To Be oR NoT To Be\"\n",
    "'''\n",
    "def ascii_capitalize():\n",
    "    string1=input(\"Enter your string: \")\n",
    "    string2=string1\n",
    "    for i in string1:\n",
    "        if(ord(i))%2==0:\n",
    "            string2=string2.replace(i,i.upper())\n",
    "        else:\n",
    "            string2=string2.replace(i,i.lower())\n",
    "    print(string2)\n",
    "            \n",
    "    \n",
    "    "
   ]
  },
  {
   "cell_type": "code",
   "execution_count": 15,
   "id": "80121abb",
   "metadata": {},
   "outputs": [
    {
     "name": "stdout",
     "output_type": "stream",
     "text": [
      "Enter your string: Oh what a beautiful morning.\n",
      "oH wHaT a BeauTiFuL moRNiNg.\n"
     ]
    }
   ],
   "source": [
    "ascii_capitalize()"
   ]
  },
  {
   "cell_type": "code",
   "execution_count": null,
   "id": "76f8e765",
   "metadata": {},
   "outputs": [],
   "source": []
  },
  {
   "cell_type": "code",
   "execution_count": null,
   "id": "2c66330d",
   "metadata": {},
   "outputs": [],
   "source": []
  }
 ],
 "metadata": {
  "kernelspec": {
   "display_name": "Python 3 (ipykernel)",
   "language": "python",
   "name": "python3"
  },
  "language_info": {
   "codemirror_mode": {
    "name": "ipython",
    "version": 3
   },
   "file_extension": ".py",
   "mimetype": "text/x-python",
   "name": "python",
   "nbconvert_exporter": "python",
   "pygments_lexer": "ipython3",
   "version": "3.9.5"
  }
 },
 "nbformat": 4,
 "nbformat_minor": 5
}
